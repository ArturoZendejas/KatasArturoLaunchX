{
 "cells": [
  {
   "cell_type": "markdown",
   "metadata": {},
   "source": [
    "Primer Programa"
   ]
  },
  {
   "cell_type": "code",
   "execution_count": 4,
   "metadata": {},
   "outputs": [
    {
     "name": "stdout",
     "output_type": "stream",
     "text": [
      "Today's date is: 2022-02-06\n"
     ]
    }
   ],
   "source": [
    "from datetime import date\n",
    "\n",
    "print(\"Today's date is: \"+ str(date.today()))"
   ]
  },
  {
   "cell_type": "markdown",
   "metadata": {},
   "source": [
    "Convertidor de Unidades \n",
    "\"Parsec Años luz\""
   ]
  },
  {
   "cell_type": "code",
   "execution_count": 5,
   "metadata": {},
   "outputs": [
    {
     "name": "stdout",
     "output_type": "stream",
     "text": [
      "11parsec, is 35.877159999999996 lightyears\n"
     ]
    }
   ],
   "source": [
    "parsec=11\n",
    "lightyears = parsec*3.26156\n",
    "print(str(parsec) + \"parsec, is \" + str(lightyears) + \" lightyears\")"
   ]
  },
  {
   "cell_type": "code",
   "execution_count": 2,
   "metadata": {},
   "outputs": [
    {
     "name": "stdout",
     "output_type": "stream",
     "text": [
      "Collecting virtualenv\n",
      "  Downloading virtualenv-20.13.1-py2.py3-none-any.whl (8.6 MB)\n",
      "Requirement already satisfied: platformdirs<3,>=2 in c:\\users\\arzeso\\appdata\\roaming\\python\\python310\\site-packages (from virtualenv) (2.4.1)\n",
      "Requirement already satisfied: six<2,>=1.9.0 in c:\\users\\arzeso\\appdata\\roaming\\python\\python310\\site-packages (from virtualenv) (1.16.0)\n",
      "Collecting filelock<4,>=3.2\n",
      "  Downloading filelock-3.4.2-py3-none-any.whl (9.9 kB)\n",
      "Collecting distlib<1,>=0.3.1\n",
      "  Downloading distlib-0.3.4-py2.py3-none-any.whl (461 kB)\n",
      "Installing collected packages: filelock, distlib, virtualenv\n",
      "Successfully installed distlib-0.3.4 filelock-3.4.2 virtualenv-20.13.1\n",
      "Note: you may need to restart the kernel to use updated packages.\n"
     ]
    },
    {
     "name": "stderr",
     "output_type": "stream",
     "text": [
      "  WARNING: The script virtualenv.exe is installed in 'C:\\Users\\Arzeso\\AppData\\Local\\Programs\\Python\\Python310\\Scripts' which is not on PATH.\n",
      "  Consider adding this directory to PATH or, if you prefer to suppress this warning, use --no-warn-script-location.\n",
      "WARNING: You are using pip version 21.2.4; however, version 22.0.3 is available.\n",
      "You should consider upgrading via the 'C:\\Users\\Arzeso\\AppData\\Local\\Programs\\Python\\Python310\\python.exe -m pip install --upgrade pip' command.\n"
     ]
    }
   ],
   "source": [
    "%pip install virtualenv"
   ]
  }
 ],
 "metadata": {
  "interpreter": {
   "hash": "7f7b7d4e58bd78c595fbfa5d8fefd59eef3a6f54cef6536bcd354f8db4388218"
  },
  "kernelspec": {
   "display_name": "Python 3.10.2 64-bit",
   "language": "python",
   "name": "python3"
  },
  "language_info": {
   "codemirror_mode": {
    "name": "ipython",
    "version": 3
   },
   "file_extension": ".py",
   "mimetype": "text/x-python",
   "name": "python",
   "nbconvert_exporter": "python",
   "pygments_lexer": "ipython3",
   "version": "3.10.2"
  },
  "orig_nbformat": 4
 },
 "nbformat": 4,
 "nbformat_minor": 2
}
