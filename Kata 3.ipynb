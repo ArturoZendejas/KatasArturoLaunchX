{
 "cells": [
  {
   "cell_type": "markdown",
   "metadata": {},
   "source": [
    "#Ejercicio - Escribir declaraciones if, else, y elif\n"
   ]
  },
  {
   "cell_type": "code",
   "execution_count": 1,
   "metadata": {},
   "outputs": [
    {
     "name": "stdout",
     "output_type": "stream",
     "text": [
      "¡ADVERTENCIA!\n"
     ]
    }
   ],
   "source": [
    "#Ejercicio 1\n",
    "\n",
    "velAsteroide = 49\n",
    "if velAsteroide > 25:\n",
    "    print(\"¡ADVERTENCIA! Asteroide acercándose\")\n",
    "else:\n",
    "    print(\"No pasa nada\")"
   ]
  },
  {
   "cell_type": "code",
   "execution_count": 2,
   "metadata": {},
   "outputs": [
    {
     "name": "stdout",
     "output_type": "stream",
     "text": [
      "No hay nada\n"
     ]
    }
   ],
   "source": [
    "#Ejercicio 2\n",
    "velAsteroide2 = 19\n",
    "\n",
    "if velAsteroide2 > 20:\n",
    "    print(\"¡Mira, una luz!\")\n",
    "elif velAsteroide2 == 20:\n",
    "    print(\"¡Mira, una luz!\")\n",
    "else:\n",
    "    print(\"No hay nada\")"
   ]
  },
  {
   "cell_type": "markdown",
   "metadata": {},
   "source": [
    "\n",
    "\n",
    "\n",
    "#Ejercicio: Uso de operadores and y or"
   ]
  },
  {
   "cell_type": "code",
   "execution_count": 6,
   "metadata": {},
   "outputs": [
    {
     "name": "stdout",
     "output_type": "stream",
     "text": [
      "Look up! ¡Hay una luz mágica en el cielo!\n"
     ]
    }
   ],
   "source": [
    "velasteroide = 25\n",
    "tamasteroide = 40\n",
    "if velasteroide > 25 and tamasteroide > 25:\n",
    "    print('¡ADVERTENCIA! Un asteroide muy peligroso')\n",
    "elif velAsteroide >= 20:\n",
    "    print('Hay luz en el cielo')\n",
    "elif tamasteroide < 25:\n",
    "    print('No hay nada que ver')\n",
    "else:\n",
    "    print('No hay nada que ver aquí :)')"
   ]
  }
 ],
 "metadata": {
  "interpreter": {
   "hash": "7f7b7d4e58bd78c595fbfa5d8fefd59eef3a6f54cef6536bcd354f8db4388218"
  },
  "kernelspec": {
   "display_name": "Python 3.10.2 64-bit",
   "language": "python",
   "name": "python3"
  },
  "language_info": {
   "codemirror_mode": {
    "name": "ipython",
    "version": 3
   },
   "file_extension": ".py",
   "mimetype": "text/x-python",
   "name": "python",
   "nbconvert_exporter": "python",
   "pygments_lexer": "ipython3",
   "version": "3.10.2"
  },
  "orig_nbformat": 4
 },
 "nbformat": 4,
 "nbformat_minor": 2
}
