{
 "cells": [
  {
   "cell_type": "markdown",
   "metadata": {},
   "source": [
    "# Kata 5"
   ]
  },
  {
   "cell_type": "markdown",
   "metadata": {},
   "source": [
    " Ejercicio 1"
   ]
  },
  {
   "cell_type": "code",
   "execution_count": 11,
   "metadata": {},
   "outputs": [
    {
     "name": "stdout",
     "output_type": "stream",
     "text": [
      "628949330 Kilometros\n",
      "390577533.93 Millas\n"
     ]
    }
   ],
   "source": [
    "dist_tierra = 149597870 \n",
    "dist_jupiter = 778547200 \n",
    "\n",
    "distancia_km = dist_jupiter-dist_tierra\n",
    "print(str(distancia_km) + ' Kilometros')\n",
    "\n",
    "distancia_mi=distancia_km*0.621\n",
    "print(str(distancia_mi) + ' Millas')"
   ]
  },
  {
   "cell_type": "markdown",
   "metadata": {},
   "source": [
    "Ejercicio 2"
   ]
  },
  {
   "cell_type": "code",
   "execution_count": 12,
   "metadata": {},
   "outputs": [],
   "source": [
    "planeta1 = input('Introduzca la distancia del sol para el primer planeta en KM')\n",
    "planeta2 = input('Introduzca la distancia desde el sol para el segundo planeta en KM')"
   ]
  },
  {
   "cell_type": "code",
   "execution_count": 13,
   "metadata": {},
   "outputs": [],
   "source": [
    "planeta1=int(planeta1)\n",
    "planeta2=int(planeta2)"
   ]
  },
  {
   "cell_type": "code",
   "execution_count": 14,
   "metadata": {},
   "outputs": [
    {
     "name": "stdout",
     "output_type": "stream",
     "text": [
      "Existe una distancia de 1025537 Kilometros\n",
      "Existe una distancia de 636858.477 Millas\n"
     ]
    }
   ],
   "source": [
    "distancia_kilometros = abs(planeta1-planeta2)\n",
    "distancia_millas=distancia_kilometros*0.621\n",
    "print(\"Existe una distancia de \" + str(distancia_kilometros) + \" Kilometros\" )\n",
    "print(\"Existe una distancia de \" + str(distancia_millas) + \" Millas\" )"
   ]
  }
 ],
 "metadata": {
  "interpreter": {
   "hash": "0bfd098cc72dce3ca5d728fb30bde9b9ccf072f1c982b381c18e3e3681d4170f"
  },
  "kernelspec": {
   "display_name": "Python 3.10.2 ('Entorno': venv)",
   "language": "python",
   "name": "python3"
  },
  "language_info": {
   "codemirror_mode": {
    "name": "ipython",
    "version": 3
   },
   "file_extension": ".py",
   "mimetype": "text/x-python",
   "name": "python",
   "nbconvert_exporter": "python",
   "pygments_lexer": "ipython3",
   "version": "3.10.2"
  },
  "orig_nbformat": 4
 },
 "nbformat": 4,
 "nbformat_minor": 2
}
