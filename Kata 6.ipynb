{
 "cells": [
  {
   "cell_type": "markdown",
   "metadata": {},
   "source": [
    "# Kata 6"
   ]
  },
  {
   "cell_type": "markdown",
   "metadata": {},
   "source": [
    "Ejercicio 1"
   ]
  },
  {
   "cell_type": "code",
   "execution_count": 12,
   "metadata": {},
   "outputs": [
    {
     "name": "stdout",
     "output_type": "stream",
     "text": [
      "Existen 8 planetas\n"
     ]
    }
   ],
   "source": [
    "planets = ['Mercurio', 'Venus','Tierra','Marte','Jupiter','Saturno','Urano','Neptuno']\n",
    "\n",
    "print('Existen',len(planets),'planetas')\n"
   ]
  },
  {
   "cell_type": "code",
   "execution_count": 13,
   "metadata": {},
   "outputs": [
    {
     "name": "stdout",
     "output_type": "stream",
     "text": [
      "Plutón es el último planeta\n"
     ]
    }
   ],
   "source": [
    "planets.append('Plutón')\n",
    "\n",
    "print(planets[-1], 'es el último planeta')"
   ]
  },
  {
   "cell_type": "markdown",
   "metadata": {},
   "source": [
    "Ejercicio 2"
   ]
  },
  {
   "cell_type": "code",
   "execution_count": 25,
   "metadata": {},
   "outputs": [
    {
     "name": "stdout",
     "output_type": "stream",
     "text": [
      "Jupiter es el 5 planeta mas cercano al Sol\n"
     ]
    }
   ],
   "source": [
    "planets = ['Mercurio', 'Venus','Tierra','Marte','Jupiter','Saturno','Urano','Neptuno']\n",
    "nombre_planeta = input(\"Nombre de un planeta\")\n",
    "planeta_usuario = planets.index(nombre_planeta)\n",
    "print(nombre_planeta,\"es el\",planeta_usuario+1,\"planeta mas cercano al Sol\")"
   ]
  },
  {
   "cell_type": "code",
   "execution_count": 26,
   "metadata": {},
   "outputs": [
    {
     "name": "stdout",
     "output_type": "stream",
     "text": [
      "Los planetas mas cercanos que Jupiter son ['Mercurio', 'Venus', 'Tierra', 'Marte']\n"
     ]
    }
   ],
   "source": [
    "print('Los planetas mas cercanos que',nombre_planeta, 'son', planets[0:planeta_usuario])"
   ]
  },
  {
   "cell_type": "code",
   "execution_count": 27,
   "metadata": {},
   "outputs": [
    {
     "name": "stdout",
     "output_type": "stream",
     "text": [
      "Los planetas mas alejados que Jupiter son ['Saturno', 'Urano', 'Neptuno']\n"
     ]
    }
   ],
   "source": [
    "print('Los planetas mas alejados que',nombre_planeta,'son',planets[planeta_usuario+1:])"
   ]
  }
 ],
 "metadata": {
  "interpreter": {
   "hash": "0bfd098cc72dce3ca5d728fb30bde9b9ccf072f1c982b381c18e3e3681d4170f"
  },
  "kernelspec": {
   "display_name": "Python 3.10.2 ('Entorno': venv)",
   "language": "python",
   "name": "python3"
  },
  "language_info": {
   "codemirror_mode": {
    "name": "ipython",
    "version": 3
   },
   "file_extension": ".py",
   "mimetype": "text/x-python",
   "name": "python",
   "nbconvert_exporter": "python",
   "pygments_lexer": "ipython3",
   "version": "3.10.2"
  },
  "orig_nbformat": 4
 },
 "nbformat": 4,
 "nbformat_minor": 2
}
