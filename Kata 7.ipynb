{
 "cells": [
  {
   "cell_type": "markdown",
   "metadata": {},
   "source": [
    "# KATA 7"
   ]
  },
  {
   "cell_type": "markdown",
   "metadata": {},
   "source": [
    "Ejercicio 1"
   ]
  },
  {
   "cell_type": "code",
   "execution_count": 19,
   "metadata": {},
   "outputs": [],
   "source": [
    "new_planet = \"\"\n",
    "planets = []"
   ]
  },
  {
   "cell_type": "code",
   "execution_count": 20,
   "metadata": {},
   "outputs": [
    {
     "name": "stdout",
     "output_type": "stream",
     "text": [
      "SDFDFDF\n",
      "['SDFDFDF']\n",
      "DSAFDFGDF\n",
      "['SDFDFDF', 'DSAFDFGDF']\n",
      "ADFFA\n",
      "['SDFDFDF', 'DSAFDFGDF', 'ADFFA']\n",
      "FDAFA\n",
      "['SDFDFDF', 'DSAFDFGDF', 'ADFFA', 'FDAFA']\n",
      "ADASF\n",
      "['SDFDFDF', 'DSAFDFGDF', 'ADFFA', 'FDAFA', 'ADASF']\n",
      "FSDF\n",
      "['SDFDFDF', 'DSAFDFGDF', 'ADFFA', 'FDAFA', 'ADASF', 'FSDF']\n"
     ]
    }
   ],
   "source": [
    "while new_planet.lower() != \"done\":\n",
    "    if new_planet:\n",
    "        planets.append(new_planet)\n",
    "        print(new_planet)\n",
    "        print(planets)\n",
    "    new_planet= input('Ingresa un planeta')\n"
   ]
  },
  {
   "cell_type": "markdown",
   "metadata": {},
   "source": [
    "Ejercicio 2\n"
   ]
  },
  {
   "cell_type": "code",
   "execution_count": 21,
   "metadata": {},
   "outputs": [
    {
     "name": "stdout",
     "output_type": "stream",
     "text": [
      "SDFDFDF\n",
      "DSAFDFGDF\n",
      "ADFFA\n",
      "FDAFA\n",
      "ADASF\n",
      "FSDF\n"
     ]
    }
   ],
   "source": [
    "for planeta in planets:\n",
    "    print (planeta)"
   ]
  }
 ],
 "metadata": {
  "interpreter": {
   "hash": "0bfd098cc72dce3ca5d728fb30bde9b9ccf072f1c982b381c18e3e3681d4170f"
  },
  "kernelspec": {
   "display_name": "Python 3.10.2 ('Entorno': venv)",
   "language": "python",
   "name": "python3"
  },
  "language_info": {
   "codemirror_mode": {
    "name": "ipython",
    "version": 3
   },
   "file_extension": ".py",
   "mimetype": "text/x-python",
   "name": "python",
   "nbconvert_exporter": "python",
   "pygments_lexer": "ipython3",
   "version": "3.10.2"
  },
  "orig_nbformat": 4
 },
 "nbformat": 4,
 "nbformat_minor": 2
}
